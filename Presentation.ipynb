{
 "cells": [
  {
   "cell_type": "code",
   "execution_count": 1,
   "metadata": {
    "slideshow": {
     "slide_type": "skip"
    }
   },
   "outputs": [
    {
     "data": {
      "text/html": [
       "<style>\n",
       ".reveal {\n",
       "background: white;\n",
       "}\n",
       "\n",
       ".rise-enabled #notebook-container {\n",
       "\n",
       "    width: 100% !important;\n",
       "}\n",
       "\n",
       "div.cell {\n",
       "padding: 0;\n",
       "}\n",
       "\n",
       ".rise-enabled .text_cell {\n",
       "    margin: -1px;\n",
       "}\n",
       "\n",
       ".rise-enabled.ctb_global_show .ctb_show ~ .text_cell_render,  rise-enabled.ctb_global_show .ctb_show ~ .text_cell_render {\n",
       "    padding-left: 7%;\n",
       "    padding-right: 7%;\n",
       "}\n",
       "\n",
       "div.input {\n",
       "    padding-left: 5%;\n",
       "    padding-right: 5%;\n",
       "    padding-bottom: 0.5em;\n",
       "    padding-top: 0.5em;\n",
       "}\n",
       "\n",
       "div.output_wrapper {\n",
       "    padding-left: 5%;\n",
       "    padding-right: 5%;\n",
       "    padding-top: 0.25em;\n",
       "    padding-bottom: 0.25em;\n",
       "}\n",
       "\n",
       ".reveal .slides > section.present {\n",
       "height: 100%;\n",
       "}\n",
       "\n",
       ".reveal .slides > section.stack {\n",
       "\n",
       "    overflow: scroll;\n",
       "}\n",
       "\n",
       "\n",
       ".rise-enabled #exit_b, .rise-enabled #help_b, .rise-enabled .reveal .controls, .rise-enabled .reveal .slide-number {\n",
       "    opacity: 0.1;\n",
       "}\n",
       "\n",
       ".reveal div.slides {\n",
       "    width: 90% !important;\n",
       "    padding-left: 5% !important;\n",
       "    padding-right: 5% !important;\n",
       "    margin-top:0 !important;\n",
       "}\n",
       "\n",
       ".reveal .slides section {\n",
       "\n",
       "    position: absolute !important;\n",
       "    left: 0px !important;\n",
       "    width: 90%;\n",
       "    top: 0px !important;\n",
       "    margin-left: 5%;\n",
       "    margin-right: 5%;\n",
       "    padding-bottom: 20px;\n",
       "    padding-top: 0px !important;\n",
       "    padding-left: 0px;\n",
       "    padding-right: 0px;\n",
       "\n",
       "}\n",
       "\n",
       ".reveal h1{\n",
       "    text-align: center !important;\n",
       "    padding-left: 3% !important;\n",
       "    padding-top: 5% !important;\n",
       "    padding-bottom: 5% !important;\n",
       "    padding-right: 3% !important;\n",
       "    margin-top: 10%;\n",
       "    margin-bottom: 7%;\n",
       "    text-transform: uppercase;\n",
       "    font-size: 2em;\n",
       "    border-radius: 25px;\n",
       "    color: white;\n",
       "    text-align: center;\n",
       "    background: #223d71;\n",
       "}\n",
       "\n",
       ".reveal h1.title {\n",
       "    text-align: center !important;\n",
       "    padding-left: 3% !important;\n",
       "    padding-top: 5% !important;\n",
       "    padding-bottom: 5% !important;\n",
       "    padding-right: 3% !important;\n",
       "    margin-left: 10% !important;\n",
       "    margin-top: 6%;\n",
       "    width: 80% !important;\n",
       "    text-transform: uppercase;\n",
       "    font-size: 2em;\n",
       "    border-radius: 25px;\n",
       "}\n",
       "\n",
       ".reveal p.author, .reveal p.date {\n",
       "    text-align: center;\n",
       "}\n",
       "\n",
       ".reveal .controls {\n",
       "    color: #223d7114\n",
       "}\n",
       "\n",
       ".reveal h2 {\n",
       "    margin-top: 0 !important;\n",
       "    background: #223d71;\n",
       "    margin-left: -16%;\n",
       "    margin-right: 0;\n",
       "    margin-bottom: 4%;\n",
       "    margin-top: -2% !important;\n",
       "    width: 125% !important;\n",
       "    font-size: 1.77em;\n",
       "    padding-bottom: 2%;\n",
       "    padding-top: 2%;\n",
       "    color: white;\n",
       "    text-align: left;\n",
       "    padding-left: 16%;\n",
       "}\n",
       "\n",
       ".reveal h3 {\n",
       "\n",
       "    text-align: center;\n",
       "    font-family: serif;\n",
       "    font-weight: normal !important;\n",
       "}\n",
       "}\n",
       "\n",
       "\n",
       ".reveal li,\n",
       ".reveal p {\n",
       "font-size: 1em;\n",
       "padding-top: 30px;\n",
       "font-family: serif;\n",
       "}\n",
       "\n",
       ".reveal li li {\n",
       "font-size: 1em;\n",
       "}\n",
       "\n",
       ".reveal p {\n",
       "text-align: justify;\n",
       "font-family: serif;\n",
       "padding-bottom: 0.5em;\n",
       "line-height: initial;\n",
       "}\n",
       "\n",
       ".reveal p img, .reveal p video {\n",
       "    margin-left: auto;\n",
       "    margin-right: auto;\n",
       "    display: block;\n",
       "    max-height: 350px;\n",
       "}\n",
       "\n",
       ".reveal li {\n",
       "list-style-position: inside;\n",
       "display: list-item;\n",
       "font-family: serif;\n",
       "margin: 0 0 30px 0;\n",
       "}\n",
       "\n",
       ".reveal ol, .reveal ul {\n",
       "    display: inline-block;\n",
       "    text-align: left;\n",
       "    margin: 0 0 0 1em;\n",
       "    font-family: serif;\n",
       "    }\n",
       "\n",
       ".reveal ul ul, .reveal ul ol, .reveal ol ol, .reveal ol ul {\n",
       "    display: block;\n",
       "    margin-left: 40px;\n",
       "    list-style-type: square;\n",
       "    font-family: serif;\n",
       "    margin-top: 30px;\n",
       "}\n",
       "\n",
       ".reveal video {\n",
       "    margin-top: 30px;\n",
       "    max-height: 350px;\n",
       "}\n",
       "\n",
       ".reveal.overview {\n",
       "top: 0%;\n",
       "left: 0%;\n",
       "}\n",
       "\n",
       ".reveal .slides section {\n",
       "/* height: 100%; */\n",
       "width: 100% !important;\n",
       "padding-left: 0;\n",
       "margin-left: 0;\n",
       "}\n",
       "\n",
       ".reveal .progress {\n",
       "    height: 5px;\n",
       "    background-color: rgba(0, 128, 128, 0.1);\n",
       "}\n",
       "\n",
       ".rise-enabled .reveal .progress span {\n",
       "    background: #223d71;\n",
       "}\n",
       "\n",
       ".reveal td  {\n",
       "  font-size: 25px\n",
       "}\n",
       ".reveal th {\n",
       "  font-size: 25px\n",
       "}\n",
       "</style>"
      ],
      "text/plain": [
       "<IPython.core.display.HTML object>"
      ]
     },
     "metadata": {},
     "output_type": "display_data"
    }
   ],
   "source": [
    "%%html\n",
    "<style>\n",
    ".reveal {\n",
    "background: white;\n",
    "}\n",
    "\n",
    ".rise-enabled #notebook-container {\n",
    "\n",
    "    width: 100% !important;\n",
    "}\n",
    "\n",
    "div.cell {\n",
    "padding: 0;\n",
    "}\n",
    "\n",
    ".rise-enabled .text_cell {\n",
    "    margin: -1px;\n",
    "}\n",
    "\n",
    ".rise-enabled.ctb_global_show .ctb_show ~ .text_cell_render,  rise-enabled.ctb_global_show .ctb_show ~ .text_cell_render {\n",
    "    padding-left: 7%;\n",
    "    padding-right: 7%;\n",
    "}\n",
    "\n",
    "div.input {\n",
    "    padding-left: 5%;\n",
    "    padding-right: 5%;\n",
    "    padding-bottom: 0.5em;\n",
    "    padding-top: 0.5em;\n",
    "}\n",
    "\n",
    "div.output_wrapper {\n",
    "    padding-left: 5%;\n",
    "    padding-right: 5%;\n",
    "    padding-top: 0.25em;\n",
    "    padding-bottom: 0.25em;\n",
    "}\n",
    "\n",
    ".reveal .slides > section.present {\n",
    "height: 100%;\n",
    "}\n",
    "\n",
    ".reveal .slides > section.stack {\n",
    "\n",
    "    overflow: scroll;\n",
    "}\n",
    "\n",
    "\n",
    ".rise-enabled #exit_b, .rise-enabled #help_b, .rise-enabled .reveal .controls, .rise-enabled .reveal .slide-number {\n",
    "    opacity: 0.1;\n",
    "}\n",
    "\n",
    ".reveal div.slides {\n",
    "    width: 90% !important;\n",
    "    padding-left: 5% !important;\n",
    "    padding-right: 5% !important;\n",
    "    margin-top:0 !important;\n",
    "}\n",
    "\n",
    ".reveal .slides section {\n",
    "\n",
    "    position: absolute !important;\n",
    "    left: 0px !important;\n",
    "    width: 90%;\n",
    "    top: 0px !important;\n",
    "    margin-left: 5%;\n",
    "    margin-right: 5%;\n",
    "    padding-bottom: 20px;\n",
    "    padding-top: 0px !important;\n",
    "    padding-left: 0px;\n",
    "    padding-right: 0px;\n",
    "\n",
    "}\n",
    "\n",
    ".reveal h1{\n",
    "    text-align: center !important;\n",
    "    padding-left: 3% !important;\n",
    "    padding-top: 5% !important;\n",
    "    padding-bottom: 5% !important;\n",
    "    padding-right: 3% !important;\n",
    "    margin-top: 10%;\n",
    "    margin-bottom: 7%;\n",
    "    text-transform: uppercase;\n",
    "    font-size: 2em;\n",
    "    border-radius: 25px;\n",
    "    color: white;\n",
    "    text-align: center;\n",
    "    background: #223d71;\n",
    "}\n",
    "\n",
    ".reveal h1.title {\n",
    "    text-align: center !important;\n",
    "    padding-left: 3% !important;\n",
    "    padding-top: 5% !important;\n",
    "    padding-bottom: 5% !important;\n",
    "    padding-right: 3% !important;\n",
    "    margin-left: 10% !important;\n",
    "    margin-top: 6%;\n",
    "    width: 80% !important;\n",
    "    text-transform: uppercase;\n",
    "    font-size: 2em;\n",
    "    border-radius: 25px;\n",
    "}\n",
    "\n",
    ".reveal p.author, .reveal p.date {\n",
    "    text-align: center;\n",
    "}\n",
    "\n",
    ".reveal .controls {\n",
    "    color: #223d7114\n",
    "}\n",
    "\n",
    ".reveal h2 {\n",
    "    margin-top: 0 !important;\n",
    "    background: #223d71;\n",
    "    margin-left: -16%;\n",
    "    margin-right: 0;\n",
    "    margin-bottom: 4%;\n",
    "    margin-top: -2% !important;\n",
    "    width: 125% !important;\n",
    "    font-size: 1.77em;\n",
    "    padding-bottom: 2%;\n",
    "    padding-top: 2%;\n",
    "    color: white;\n",
    "    text-align: left;\n",
    "    padding-left: 16%;\n",
    "}\n",
    "\n",
    ".reveal h3 {\n",
    "\n",
    "    text-align: center;\n",
    "    font-family: serif;\n",
    "    font-weight: normal !important;\n",
    "}\n",
    "}\n",
    "\n",
    "\n",
    ".reveal li,\n",
    ".reveal p {\n",
    "font-size: 1em;\n",
    "padding-top: 30px;\n",
    "font-family: serif;\n",
    "}\n",
    "\n",
    ".reveal li li {\n",
    "font-size: 1em;\n",
    "}\n",
    "\n",
    ".reveal p {\n",
    "text-align: justify;\n",
    "font-family: serif;\n",
    "padding-bottom: 0.5em;\n",
    "line-height: initial;\n",
    "}\n",
    "\n",
    ".reveal p img, .reveal p video {\n",
    "    margin-left: auto;\n",
    "    margin-right: auto;\n",
    "    display: block;\n",
    "    max-height: 350px;\n",
    "}\n",
    "\n",
    ".reveal li {\n",
    "list-style-position: inside;\n",
    "display: list-item;\n",
    "font-family: serif;\n",
    "margin: 0 0 30px 0;\n",
    "}\n",
    "\n",
    ".reveal ol, .reveal ul {\n",
    "    display: inline-block;\n",
    "    text-align: left;\n",
    "    margin: 0 0 0 1em;\n",
    "    font-family: serif;\n",
    "    }\n",
    "\n",
    ".reveal ul ul, .reveal ul ol, .reveal ol ol, .reveal ol ul {\n",
    "    display: block;\n",
    "    margin-left: 40px;\n",
    "    list-style-type: square;\n",
    "    font-family: serif;\n",
    "    margin-top: 30px;\n",
    "}\n",
    "\n",
    ".reveal video {\n",
    "    margin-top: 30px;\n",
    "    max-height: 350px;\n",
    "}\n",
    "\n",
    ".reveal.overview {\n",
    "top: 0%;\n",
    "left: 0%;\n",
    "}\n",
    "\n",
    ".reveal .slides section {\n",
    "/* height: 100%; */\n",
    "width: 100% !important;\n",
    "padding-left: 0;\n",
    "margin-left: 0;\n",
    "}\n",
    "\n",
    ".reveal .progress {\n",
    "    height: 5px;\n",
    "    background-color: rgba(0, 128, 128, 0.1);\n",
    "}\n",
    "\n",
    ".rise-enabled .reveal .progress span {\n",
    "    background: #223d71;\n",
    "}\n",
    "\n",
    ".reveal td  {\n",
    "  font-size: 25px\n",
    "}\n",
    ".reveal th {\n",
    "  font-size: 25px\n",
    "}\n",
    "</style>"
   ]
  },
  {
   "cell_type": "markdown",
   "metadata": {
    "slideshow": {
     "slide_type": "slide"
    }
   },
   "source": [
    "<h1><center>A Kenzo Interface for Algebraic Topology Computations in SageMath</center></h1>\n",
    "<br>\n",
    "\n",
    "<h3><center> Julián Cuevas-Rozo, Jose Divasón, Miguel Marco-Buzunáriz and <b>Ana Romero</b></center></h3>\n",
    "<h4><center>University of La Rioja and University of Zaragoza, Spain</center></h4>\n",
    "<br>\n",
    "<br>\n"
   ]
  },
  {
   "cell_type": "markdown",
   "metadata": {
    "slideshow": {
     "slide_type": "slide"
    }
   },
   "source": [
    "\n",
    "<br>\n",
    "<br>\n",
    "\n",
    "###  This is a work in progress\n",
    "\n"
   ]
  },
  {
   "cell_type": "markdown",
   "metadata": {
    "slideshow": {
     "slide_type": "fragment"
    }
   },
   "source": [
    "\n",
    "\n",
    "\n",
    "<h3>  Presented in the International Symposium on Symbolic <br>\n",
    " and Algebraic Computation in Beijing, July 2019\n",
    "<br> (Distinguished Software Demonstration Award) </h3>\n",
    "\n"
   ]
  },
  {
   "cell_type": "markdown",
   "metadata": {
    "slideshow": {
     "slide_type": "slide"
    }
   },
   "source": [
    "## What is Kenzo?\n",
    "\n",
    "* Kenzo is a Symbolic Computation system for Constructive Algebraic Topology\n",
    "* Developed by Francis Sergeraert\n",
    "* The first version was launched in 1990 (it was called EAT)\n",
    "* Written in Common Lisp"
   ]
  },
  {
   "cell_type": "markdown",
   "metadata": {
    "slideshow": {
     "slide_type": "slide"
    }
   },
   "source": [
    "## What is Kenzo?\n",
    "\n",
    "* It has made it possible to determine homology and homotopy groups of complicated spaces"
   ]
  },
  {
   "cell_type": "markdown",
   "metadata": {
    "slideshow": {
     "slide_type": "fragment"
    }
   },
   "source": [
    "\n",
    "<center>Example:</center>\n",
    "\n",
    "$$X=\\Omega(\\Omega(\\Omega(P^\\infty\\mathbb{R}/P^3\\mathbb{R})\\cup_4D^4)\\cup_2D^2)$$\n",
    "\n",
    "\\begin{equation*}\n",
    "\\begin{aligned}\n",
    "H_5 (X) & = (\\mathbb{Z}/2)^{23} \\oplus \\mathbb{Z}/{8} \\oplus \\mathbb{Z}/{16} \\\\\n",
    "H_6(X) & = (\\mathbb{Z}/2)^{52} \\oplus (\\mathbb{Z}/4)^3 \\oplus \\mathbb{Z}^3 \\\\\n",
    "H_7(X) & = (\\mathbb{Z}/2)^{113} \\oplus \\mathbb{Z}/4 \\oplus (\\mathbb{Z}/8)^3 \\oplus \\mathbb{Z}/{16} \\oplus \\mathbb{Z}/{32} \\oplus \\mathbb{Z}\n",
    "\\end{aligned}\n",
    "\\end{equation*}"
   ]
  },
  {
   "cell_type": "markdown",
   "metadata": {
    "slideshow": {
     "slide_type": "fragment"
    }
   },
   "source": [
    "- <span style=\"color:rgb(255, 0, 0);\">X is complicated</span>"
   ]
  },
  {
   "cell_type": "markdown",
   "metadata": {
    "slideshow": {
     "slide_type": "fragment"
    }
   },
   "source": [
    "- <span style=\"color:rgb(255, 0, 0);\">Indeed X is not of finite type</span>"
   ]
  },
  {
   "cell_type": "markdown",
   "metadata": {
    "slideshow": {
     "slide_type": "slide"
    }
   },
   "source": [
    "## What is Kenzo?\n",
    "- The Kenzo program can deal with infinite objects are coded by means of functional programming\n",
    "- Indeed, it is the only program that permits computations in algebraic topology over (some kind of) infinite structures\n",
    "\n",
    "How does Kenzo compute the homology groups of an infinite simplicial set functionally coded?\n",
    "\n"
   ]
  },
  {
   "cell_type": "markdown",
   "metadata": {
    "slideshow": {
     "slide_type": "fragment"
    }
   },
   "source": [
    "### $\\color{red}{Effective\\ Homology}\\ $  = Solution for Algebraic Topology\n",
    "\n",
    "\n",
    "### Combining infinite objects and finite objects\n",
    "\n",
    "$$Object = \\fbox{{Inf-part} \\(\\Leftarrow\\hspace{-9pt}\\Leftarrow\\hspace{-5pt}\\Rightarrow\\hspace{-9pt}\\Rightarrow\\) {Fin-part}}$$"
   ]
  },
  {
   "cell_type": "markdown",
   "metadata": {
    "slideshow": {
     "slide_type": "slide"
    }
   },
   "source": [
    "## Kenzo and effective homology\n",
    "\n",
    "The Kenzo system uses the notion of object with effective homology to\n",
    "compute homology groups of some complicated spaces.\n",
    "- If a topological space $X$ has finite nature, then its homology groups can be determined by means of elementary operations on matrices\n",
    "\n"
   ]
  },
  {
   "cell_type": "markdown",
   "metadata": {
    "slideshow": {
     "slide_type": "fragment"
    }
   },
   "source": [
    "- If $X$ is of infinite type, then Kenzo should be able to find a homotopy equivalence $C_*(X) \\Leftarrow\\hspace{-9pt}\\Leftarrow\\hspace{-5pt}\\Rightarrow\\hspace{-9pt}\\Rightarrow E_*$ between a chain complex canonically associated with $X$, $C_∗(X)$, and a chain complex $E_∗$ of finite type, whose homology groups can be determined\n",
    "    - This particular homotopy equivalence (which must satisfy some special properties) makes it possible to determine the homology groups of $X$ by means of those of $E_∗$ \n",
    "    - It also permits to compute their generators\n"
   ]
  },
  {
   "cell_type": "markdown",
   "metadata": {
    "slideshow": {
     "slide_type": "slide"
    }
   },
   "source": [
    "## Effective homology computation\n",
    "\n",
    "Given a chain complex C, how is it possible to determine its effective\n",
    "homology?\n"
   ]
  },
  {
   "cell_type": "markdown",
   "metadata": {
    "slideshow": {
     "slide_type": "fragment"
    }
   },
   "source": [
    "\n",
    "- If a chain complex $C_*$ is of finite type, then we can choose the trivial\n",
    "effective homology $C_*\\Leftarrow\\hspace{-9pt}\\Leftarrow\\hspace{-5pt}\\Rightarrow\\hspace{-9pt}\\Rightarrow C_*$\n",
    "\n"
   ]
  },
  {
   "cell_type": "markdown",
   "metadata": {
    "slideshow": {
     "slide_type": "fragment"
    }
   },
   "source": [
    "- In some cases, some theoretical results are available providing an equivalence between some chain complex $C_*$ and an *effective* chain complex. Example: $C_*(K(\\mathbb{Z},1)) \\Leftarrow\\hspace{-9pt}\\Leftarrow\\hspace{-5pt}\\Rightarrow\\hspace{-9pt}\\Rightarrow C_*(S^1)$\n"
   ]
  },
  {
   "cell_type": "markdown",
   "metadata": {
    "slideshow": {
     "slide_type": "fragment"
    }
   },
   "source": [
    "\n",
    "- Particular algorithms are provided producing the effective homology of different constructors of algebraic topology: loop spaces, classifying spaces, total spaces of fibrations, suspensions, wedges...\n"
   ]
  },
  {
   "cell_type": "markdown",
   "metadata": {
    "slideshow": {
     "slide_type": "slide"
    }
   },
   "source": [
    "## Computation of homotopy groups\n",
    "\n",
    "Let $X$ be a $1$-reduced simplicial set. In order to compute its homotopy groups, Kenzo uses the *Whitehead tower method*, which consists in constructing a tower of fibrations:"
   ]
  },
  {
   "cell_type": "markdown",
   "metadata": {
    "slideshow": {
     "slide_type": "fragment"
    }
   },
   "source": [
    "<center><img src=\"Whitehead_tower_method.png\" height=\"28%\" width=\"28%\"></center>"
   ]
  },
  {
   "cell_type": "markdown",
   "metadata": {
    "slideshow": {
     "slide_type": "fragment"
    }
   },
   "source": [
    "\n",
    "such that each $X_n$ is $(n-1)$-reduced and $X_n$ satisfies $\\pi_n(X_n)\\cong H_n(X_n) \\cong \\pi_n(X)$\n",
    "\n",
    "In this way, one can determine the homotopy group $\\pi_n(X)$ as the homology group $H_n(X_n)$. If the space $X_n$ is not of finite type, the effective homology method is used\n",
    "    "
   ]
  },
  {
   "cell_type": "markdown",
   "metadata": {
    "slideshow": {
     "slide_type": "slide"
    }
   },
   "source": [
    "## Kenzo modules\n",
    "\n",
    "There are numerous modules and extensions for the Kenzo system:\n",
    "* Spectral sequences of filtered complexes (A. Romero, J. Rubio, F. Sergeraert, 2006)\n",
    "     - Computing in particular Serre and Eilenberg-Moore spectral sequences of\n",
    "fibrations of spaces with effective homology\n",
    "* Homology of groups (A. Romero, J. Rubio, 2009)\n",
    "    - In the paper: *R. Mikhailov and J. Wu, On homotopy groups of the suspended classifying spaces. Algebraic and Geometric Topology, 2010, vol. 10, pp. 565-625* the authors state in Theorem 5.4:\n",
    "        - Let $A_4$ be the $4$-th alternating group. Then $\\pi_4(\\Sigma K(A_4,1)) = \\mathbb{Z}_4$  \n",
    "    - Kenzo produced a different result (Kenzo was right): \n",
    "        - $\\pi_4(\\Sigma K(A_4,1)) = \\mathbb{Z}_{12}$       "
   ]
  },
  {
   "cell_type": "markdown",
   "metadata": {
    "slideshow": {
     "slide_type": "slide"
    }
   },
   "source": [
    "## Kenzo modules\n",
    "\n",
    "* Discrete Vector Fields (F. Sergeraert, 2010)\n",
    "* Persistent homology (A. Romero, J. Rubio, F. Sergeraert, 2010)\n",
    "* Pushouts, wedges, joins (J. Heras, 2014)\n",
    "* Effective homotopy (A. Romero, J. Rubio, F. Sergeraert, 2015)\n",
    "* Generalized spectral sequences (A. Guidolin, A. Romero, 2018)\n",
    "* Multipersistence (A. Guidolin, J. Divasón, F. Vaccarino, 2019)"
   ]
  },
  {
   "cell_type": "markdown",
   "metadata": {
    "slideshow": {
     "slide_type": "slide"
    }
   },
   "source": [
    "## What is Kenzo? A summary\n",
    "\n",
    "The main goal of Kenzo is to deal with *topological spaces of **infinite** nature*; **homology**\n",
    "and **homotopy groups** (and other invariants) of these spaces are then computed by means of the *effective homology method*\n"
   ]
  },
  {
   "cell_type": "markdown",
   "metadata": {
    "slideshow": {
     "slide_type": "fragment"
    }
   },
   "source": [
    "It allows in particular the computation of homology and homotopy groups of complicated spaces, such as:\n",
    "\n",
    "- Iterated loop spaces of a loop space modified by a cell attachment\n",
    "- Components of complex Postnikov towers\n",
    "- ...\n"
   ]
  },
  {
   "cell_type": "markdown",
   "metadata": {
    "slideshow": {
     "slide_type": "fragment"
    }
   },
   "source": [
    "which were not known before!!\n",
    "\n"
   ]
  },
  {
   "cell_type": "markdown",
   "metadata": {
    "slideshow": {
     "slide_type": "slide"
    }
   },
   "source": [
    "## Problem"
   ]
  },
  {
   "cell_type": "markdown",
   "metadata": {
    "slideshow": {
     "slide_type": "fragment"
    }
   },
   "source": [
    "### Many people do not know the capabilities of the Kenzo system"
   ]
  },
  {
   "cell_type": "markdown",
   "metadata": {
    "slideshow": {
     "slide_type": "fragment"
    }
   },
   "source": [
    "### Indeed, many people do not know the existence of this program"
   ]
  },
  {
   "cell_type": "markdown",
   "metadata": {
    "slideshow": {
     "slide_type": "fragment"
    }
   },
   "source": [
    "### Its use requires knowledge of Common Lisp (functional programming) <br> and then it is difficult to use "
   ]
  },
  {
   "cell_type": "markdown",
   "metadata": {
    "slideshow": {
     "slide_type": "slide"
    }
   },
   "source": [
    "## Solution\n",
    "\n",
    "### We aim to integrate (a significant subset of) Kenzo in SageMath\n",
    "\n",
    "### This would increase the features of SageMath when dealing with some infinite structures in algebraic topology"
   ]
  },
  {
   "cell_type": "markdown",
   "metadata": {
    "slideshow": {
     "slide_type": "slide"
    }
   },
   "source": [
    "## SageMath\n",
    "\n",
    "* System for Algebra and Geometry Experimentation \n",
    "* The stated mission of Sage is to be viable free open source alternative to Magma, Maple, Mathematica, and Matlab\n",
    "* Volunteer based project\n",
    "* The principle programming languages of SageMath are Python and Cython\n",
    "* New versions are released every few months, with bugfixes and new functionalities\n",
    "### Sage was not written from scratch!!\n",
    "* Integrates over 90 packages into a common interface\n",
    "* On top of these packages is the Sage library, which consists of over 700,000 lines of new Python and Cython code"
   ]
  },
  {
   "cell_type": "markdown",
   "metadata": {
    "slideshow": {
     "slide_type": "slide"
    }
   },
   "source": [
    "## SageMath\n",
    "\n",
    "* Its philosophy is to use existing open-source libraries wherever they exist"
   ]
  },
  {
   "cell_type": "markdown",
   "metadata": {
    "slideshow": {
     "slide_type": "fragment"
    }
   },
   "source": [
    "\n",
    "\n",
    "|          Branch                  | Libraries |\n",
    "| ------------------------------- |:-------------:| \n",
    "| Algebra \t| GAP, Singular, FLINT| \n",
    "| Algebraic geometry \t| \tSingular| \n",
    "| Arbitrary precision arithmetic \t| \tMPIR, MPFR, MPFI, NTL, mpmath, Arb| \n",
    "| Arithmetic geometry \t| \tPARI/GP, NTL, mwrank, ECM| \n",
    "| Calculus \t| \tMaxima, SymPy, GiNaC, Giac, FriCAS| \n",
    "| Combinatorics \t| \tSymmetrica, Sage-Combinat| \n",
    "| Linear algebra \t| \tATLAS, BLAS, LAPACK, NumPy, LinBox, IML, GSL| \n",
    "| Graph theory \t| \tNetworkX| \n",
    "| Group theory \t| \tGAP| \n",
    "| Numerical computation \t| \tGSL, SciPy, NumPy, ATLAS| \n",
    "| Number theory \t| \tPARI/GP, FLINT, NTL| \n",
    "| Statistical computing \t| \tR, SciPy   |\n",
    "| ... \t| \t...   |\n",
    "\n"
   ]
  },
  {
   "cell_type": "markdown",
   "metadata": {
    "slideshow": {
     "slide_type": "slide"
    }
   },
   "source": [
    "## SageMath and Algebraic Topology\n",
    "\n",
    "SageMath already includes modules for: \n",
    "\n",
    "   - simplicial complexes\n",
    "   - ∆-complexes\n",
    "   - cubical complexes\n",
    "   - simplicial sets\n",
    "   - other topological objects of different nature, such as knots and braids\n",
    "   \n",
    "It can compute invariants such as the homology of these objects, both by using custom written code and by leveraging an interface to CHomP (a \"Computation Homology Program\")"
   ]
  },
  {
   "cell_type": "markdown",
   "metadata": {
    "slideshow": {
     "slide_type": "fragment"
    }
   },
   "source": [
    "**Sadly, for the moment SageMath only supports objects of finite type**"
   ]
  },
  {
   "cell_type": "markdown",
   "metadata": {
    "slideshow": {
     "slide_type": "slide"
    }
   },
   "source": [
    "## Our work, more concretely\n",
    "\n",
    "\n",
    "An optional Kenzo package for SageMath and an interface between SageMath and Kenzo\n",
    "\n",
    "The main advantage is that Kenzo can deal with general simplicial sets\n",
    "\n",
    "---\n",
    "\n",
    "Features: \n",
    "\n",
    "1. It allows to install and use Kenzo within SageMath, making it easy to use Kenzo as part of a wider workflow\n",
    "2. This interface is a first step towards an extension of SageMath capabilities around simplicial sets"
   ]
  },
  {
   "cell_type": "markdown",
   "metadata": {
    "slideshow": {
     "slide_type": "slide"
    }
   },
   "source": [
    "## How?\n",
    "\n",
    "1. SageMath provides a library interface to Embeddable Common Lisp (ECL)"
   ]
  },
  {
   "cell_type": "code",
   "execution_count": 20,
   "metadata": {
    "scrolled": false,
    "slideshow": {
     "slide_type": "fragment"
    }
   },
   "outputs": [
    {
     "data": {
      "text/plain": [
       "<ECL: (NIL T NIL)>"
      ]
     },
     "execution_count": 20,
     "metadata": {},
     "output_type": "execute_result"
    }
   ],
   "source": [
    "from sage.libs.ecl import *\n",
    "EclObject([false,true,false])"
   ]
  },
  {
   "cell_type": "code",
   "execution_count": 21,
   "metadata": {
    "slideshow": {
     "slide_type": "fragment"
    }
   },
   "outputs": [
    {
     "data": {
      "text/plain": [
       "<ECL: (2 2)>"
      ]
     },
     "execution_count": 21,
     "metadata": {},
     "output_type": "execute_result"
    }
   ],
   "source": [
    "L=EclObject([[2,2],[3,4],[5,6,8]])\n",
    "L.car()"
   ]
  },
  {
   "cell_type": "code",
   "execution_count": 22,
   "metadata": {
    "slideshow": {
     "slide_type": "fragment"
    }
   },
   "outputs": [
    {
     "data": {
      "text/plain": [
       "<ECL: ((3 4) (5 6 8))>"
      ]
     },
     "execution_count": 22,
     "metadata": {},
     "output_type": "execute_result"
    }
   ],
   "source": [
    "L.cdr()"
   ]
  },
  {
   "cell_type": "markdown",
   "metadata": {
    "slideshow": {
     "slide_type": "notes"
    }
   },
   "source": [
    "Decir que Kenzo usa su propio LISP y que eso es un problema de incompatibilidades\n",
    "Y también decir que lo que han hecho Heber y Sergeraert no incluye los plugins de Ana"
   ]
  },
  {
   "cell_type": "markdown",
   "metadata": {
    "slideshow": {
     "slide_type": "fragment"
    }
   },
   "source": [
    "2. G. Heber and F. Sergeraert developed a Kenzo version easily loadable and compatible with any Common Lisp system"
   ]
  },
  {
   "cell_type": "markdown",
   "metadata": {
    "slideshow": {
     "slide_type": "slide"
    }
   },
   "source": [
    "## Installing Kenzo in SageMath\n",
    "\n",
    "We can install the Kenzo optional package in SageMath by running:\n",
    "\n",
    "```\n",
    "sage -i kenzo\n",
    "```\n",
    "\n",
    "- This will download the source code of a fork of Kenzo that we maintain for this specific purpose, compile it inside the embedded Common Lisp interpreter that SageMath includes, and install it\n",
    "- This is an easy way to install Kenzo even if one just plan to use it as a standalone program\n",
    "- Kenzo is installed as a package inside the Embeddable Common Lisp library\n"
   ]
  },
  {
   "cell_type": "markdown",
   "metadata": {
    "slideshow": {
     "slide_type": "slide"
    }
   },
   "source": [
    "## Example of computations in Kenzo via SageMath and ECL"
   ]
  },
  {
   "cell_type": "code",
   "execution_count": 23,
   "metadata": {
    "slideshow": {
     "slide_type": "fragment"
    }
   },
   "outputs": [
    {
     "data": {
      "text/plain": [
       "<ECL: [K25 Abelian-Simplicial-Group]>"
      ]
     },
     "execution_count": 23,
     "metadata": {},
     "output_type": "execute_result"
    }
   ],
   "source": [
    "from sage.libs.ecl import ecl_eval\n",
    "ecl_eval(\"(require :kenzo)\")\n",
    "ecl_eval(\"(in-package #:cat)\")\n",
    "ecl_eval(\"(setf K (k-z 3))\")"
   ]
  },
  {
   "cell_type": "markdown",
   "metadata": {
    "slideshow": {
     "slide_type": "slide"
    }
   },
   "source": [
    "## Interface between Kenzo and SageMath\n",
    "\n",
    "- In the previous example, the execution is carried out in Kenzo via ECL, but there is no proper connection to SageMath classes\n",
    "\n",
    "Thus, we developed an interface to communicate both systems\n",
    "\n",
    "- The communication between the two systems is done via a C-library interface (low overhead)\n",
    "- The interface provides functions to create Kenzo objects, and wrappers around them that allow to create new objects (with the corresponding wrapper) and call functions on them"
   ]
  },
  {
   "cell_type": "markdown",
   "metadata": {
    "slideshow": {
     "slide_type": "slide"
    }
   },
   "source": [
    "## Examples of computations in SageMath via Kenzo\n",
    "\n"
   ]
  },
  {
   "cell_type": "code",
   "execution_count": 6,
   "metadata": {
    "slideshow": {
     "slide_type": "fragment"
    }
   },
   "outputs": [
    {
     "data": {
      "text/plain": [
       "[Z, 0, C2, Z, C4, C2 x C2 x C2, C2, C2 x C2 x C3 x C4]"
      ]
     },
     "execution_count": 6,
     "metadata": {},
     "output_type": "execute_result"
    }
   ],
   "source": [
    "from sage.interfaces.kenzo import EilenbergMacLaneSpace\n",
    "E1 = EilenbergMacLaneSpace(ZZ, 3)\n",
    "E2 = EilenbergMacLaneSpace(AdditiveAbelianGroup([2]),2)\n",
    "E = E1.cartesian_product(E2)\n",
    "[E.homology(i) for i in range(8)]"
   ]
  },
  {
   "cell_type": "markdown",
   "metadata": {
    "slideshow": {
     "slide_type": "fragment"
    }
   },
   "source": [
    "**Let us observe that the space E is of infinite nature, but Kenzo is able to compute its homology groups**"
   ]
  },
  {
   "cell_type": "markdown",
   "metadata": {
    "slideshow": {
     "slide_type": "slide"
    }
   },
   "source": [
    "In particular, the interface exposes functions to create the following spaces:\n",
    "* Spheres\n",
    "* Eilenberg–MacLane spaces\n",
    "* Moore spaces\n",
    "\n",
    "From these spaces, it allows the following constructions:\n",
    "\n",
    "* Cartesian products\n",
    "* Classifying spaces\n",
    "* Loop spaces\n",
    "* Suspensions\n",
    "* Tensor products\n",
    "\n",
    "We can construct the corresponding homology groups via the ``homology()`` method"
   ]
  },
  {
   "cell_type": "markdown",
   "metadata": {
    "slideshow": {
     "slide_type": "slide"
    }
   },
   "source": [
    "## More examples of computations"
   ]
  },
  {
   "cell_type": "code",
   "execution_count": 7,
   "metadata": {
    "slideshow": {
     "slide_type": "fragment"
    }
   },
   "outputs": [
    {
     "data": {
      "text/plain": [
       "[K484 Chain-Complex]"
      ]
     },
     "execution_count": 7,
     "metadata": {},
     "output_type": "execute_result"
    }
   ],
   "source": [
    "from sage.interfaces.kenzo import *\n",
    "M25 = MooreSpace(2, 5)\n",
    "OM25 = M25.loop_space()\n",
    "OM25xS3 = OM25.tensor_product(Sphere(3))\n",
    "OM25xS3"
   ]
  },
  {
   "cell_type": "code",
   "execution_count": 8,
   "metadata": {
    "slideshow": {
     "slide_type": "fragment"
    }
   },
   "outputs": [
    {
     "data": {
      "text/plain": [
       "[K486 Chain-Complex]"
      ]
     },
     "execution_count": 8,
     "metadata": {},
     "output_type": "execute_result"
    }
   ],
   "source": [
    "EML = EilenbergMacLaneSpace(AdditiveAbelianGroup([2]),2)\n",
    "OM25xS3xEML = OM25xS3.tensor_product(EML)\n",
    "OM25xS3xEML"
   ]
  },
  {
   "cell_type": "markdown",
   "metadata": {
    "slideshow": {
     "slide_type": "slide"
    }
   },
   "source": [
    "## New features of the interface\n",
    "\n",
    "- We included the Kenzo functions for computing homotopy groups of simplicial sets (via the Whitehead tower method) \n",
    "- We developed methods for translating objects (chain complexes, simplicial sets) both from SageMath to Kenzo and vice versa\n",
    "- This permits to build simplicial objects in SageMath (via a package by J. Palmieri), translate them into Kenzo and compute their homology and homotopy groups"
   ]
  },
  {
   "cell_type": "markdown",
   "metadata": {
    "slideshow": {
     "slide_type": "slide"
    }
   },
   "source": [
    "## Examples of computations involving both systems\n",
    "\n",
    "This example shows how to compute the homology of the loop space of a wedge of the spheres $S^3$ and $S^4$"
   ]
  },
  {
   "cell_type": "code",
   "execution_count": 9,
   "metadata": {
    "slideshow": {
     "slide_type": "fragment"
    }
   },
   "outputs": [
    {
     "data": {
      "text/plain": [
       "[Z, Z, Z, Z x Z, Z x Z, Z x Z x Z]"
      ]
     },
     "execution_count": 9,
     "metadata": {},
     "output_type": "execute_result"
    }
   ],
   "source": [
    "from sage.homology.simplicial_set import *\n",
    "from sage.interfaces.kenzo import *\n",
    "s3 = simplicial_sets.Sphere(3)\n",
    "s4 = simplicial_sets.Sphere(4)\n",
    "s3vs4 = s3.wedge(s4)\n",
    "K = KFiniteSimplicialSet(s3vs4)\n",
    "loop_K = K.loop_space()\n",
    "[loop_K.homology(i) for i in range(2,8)]"
   ]
  },
  {
   "cell_type": "markdown",
   "metadata": {
    "slideshow": {
     "slide_type": "fragment"
    }
   },
   "source": [
    "#### Note that:\n",
    "    \n",
    "* The wedge product of the spheres is computed by means of a function that is available in SageMath \n",
    "* The loop space is built in Kenzo (it is an infinite object)\n",
    "* The computation of the homology is carried out via Kenzo (SageMath cannot deal with that computation)"
   ]
  },
  {
   "cell_type": "markdown",
   "metadata": {
    "slideshow": {
     "slide_type": "slide"
    }
   },
   "source": [
    "## Computation of homotopy groups\n",
    "\n",
    "This example shows how to compute the homotopy groups of the sphere $S^3$"
   ]
  },
  {
   "cell_type": "markdown",
   "metadata": {
    "slideshow": {
     "slide_type": "notes"
    }
   },
   "source": [
    "Recordar que los grupos de homotopía de una esfera son conocidos pero difíciles de calcular"
   ]
  },
  {
   "cell_type": "code",
   "execution_count": 10,
   "metadata": {
    "scrolled": true,
    "slideshow": {
     "slide_type": "fragment"
    }
   },
   "outputs": [
    {
     "data": {
      "text/plain": [
       "[Trivial Abelian group,\n",
       " Multiplicative Abelian group isomorphic to Z,\n",
       " Multiplicative Abelian group isomorphic to C2,\n",
       " Multiplicative Abelian group isomorphic to C2,\n",
       " Multiplicative Abelian group isomorphic to C12]"
      ]
     },
     "execution_count": 10,
     "metadata": {},
     "output_type": "execute_result"
    }
   ],
   "source": [
    "from sage.interfaces.kenzo import *\n",
    "S3 = Sphere(3)\n",
    "[S3.homotopy_group(i) for i in range(2,7)]"
   ]
  },
  {
   "cell_type": "markdown",
   "metadata": {
    "slideshow": {
     "slide_type": "fragment"
    }
   },
   "source": [
    "The homotopy groups of a wedge of the spheres $S^3$ and $S^4$"
   ]
  },
  {
   "cell_type": "markdown",
   "metadata": {
    "slideshow": {
     "slide_type": "notes"
    }
   },
   "source": [
    "Decir que K es el wedge de antes"
   ]
  },
  {
   "cell_type": "code",
   "execution_count": 24,
   "metadata": {
    "scrolled": true,
    "slideshow": {
     "slide_type": "fragment"
    }
   },
   "outputs": [
    {
     "data": {
      "text/plain": [
       "[Trivial Abelian group,\n",
       " Multiplicative Abelian group isomorphic to Z,\n",
       " Multiplicative Abelian group isomorphic to Z x C2,\n",
       " Multiplicative Abelian group isomorphic to C2 x C2]"
      ]
     },
     "execution_count": 24,
     "metadata": {},
     "output_type": "execute_result"
    }
   ],
   "source": [
    " [K.homotopy_group(i) for i in range(2,6)]"
   ]
  },
  {
   "cell_type": "markdown",
   "metadata": {
    "slideshow": {
     "slide_type": "slide"
    }
   },
   "source": [
    "## Spectral sequences (on-going work)\n",
    "\n",
    "There exists a Kenzo module which is able to compute spectral sequences associated with filtered complexes\n",
    "\n",
    "As particular cases, it can determine Serre and Eilenberg-Moore spectral sequences of fibrations with objects of infinite type when versions with effective homology  are known for the initial  spaces \n",
    "\n",
    "The module determines not only the groups but also the differential maps of every page of the spectral sequence"
   ]
  },
  {
   "cell_type": "markdown",
   "metadata": {
    "slideshow": {
     "slide_type": "slide"
    }
   },
   "source": [
    "## Spectral sequences (on-going work)\n",
    "\n",
    "We have incorporated in SageMath particular examples of spectral sequences:\n",
    "\n",
    "* Serre spectral sequence associated with a cartesian product\n",
    "* Serre spectral sequence associated with the first fibration in the Whitehead tower of a simplicial set\n",
    "* Eilenberg-Moore spectral sequence associated with the loop space of a simplicial set\n",
    "* Spectral sequence of a filtered complex given by a dictionary of morphisms of chain complexes\n"
   ]
  },
  {
   "cell_type": "markdown",
   "metadata": {
    "slideshow": {
     "slide_type": "slide"
    }
   },
   "source": [
    "## Serre spectral sequence of a cartesian product\n",
    "\n"
   ]
  },
  {
   "cell_type": "code",
   "execution_count": 26,
   "metadata": {
    "scrolled": true,
    "slideshow": {
     "slide_type": "fragment"
    }
   },
   "outputs": [
    {
     "data": {
      "text/plain": [
       "Additive abelian group isomorphic to Z"
      ]
     },
     "execution_count": 26,
     "metadata": {},
     "output_type": "execute_result"
    }
   ],
   "source": [
    "from sage.interfaces.kenzo import *\n",
    "S2 = Sphere(2)                           \n",
    "S3 = Sphere(3)                           \n",
    "P = S3.cartesian_product(S2)              \n",
    "E = P.serre_spectral_sequence()    \n",
    "E.group(2,3,0)                 "
   ]
  },
  {
   "cell_type": "code",
   "execution_count": 27,
   "metadata": {
    "scrolled": true,
    "slideshow": {
     "slide_type": "fragment"
    }
   },
   "outputs": [
    {
     "data": {
      "text/html": [
       "<div class=\"notruncate\">\n",
       "<table  class=\"table_form\">\n",
       "<tbody>\n",
       "<tr class =\"row-a\">\n",
       "<td>Z</td>\n",
       "<td>0</td>\n",
       "<td>0</td>\n",
       "<td>Z</td>\n",
       "</tr>\n",
       "<tr class =\"row-b\">\n",
       "<td>0</td>\n",
       "<td>0</td>\n",
       "<td>0</td>\n",
       "<td>0</td>\n",
       "</tr>\n",
       "<tr class =\"row-a\">\n",
       "<td>Z</td>\n",
       "<td>0</td>\n",
       "<td>0</td>\n",
       "<td>Z</td>\n",
       "</tr>\n",
       "</tbody>\n",
       "</table>\n",
       "</div>"
      ],
      "text/plain": [
       "  Z   0   0   Z\n",
       "  0   0   0   0\n",
       "  Z   0   0   Z"
      ]
     },
     "execution_count": 27,
     "metadata": {},
     "output_type": "execute_result"
    }
   ],
   "source": [
    "E.table(2, 0, 3, 0, 2)                   "
   ]
  },
  {
   "cell_type": "code",
   "execution_count": 28,
   "metadata": {
    "slideshow": {
     "slide_type": "fragment"
    }
   },
   "outputs": [
    {
     "data": {
      "text/plain": [
       "[0]"
      ]
     },
     "execution_count": 28,
     "metadata": {},
     "output_type": "execute_result"
    }
   ],
   "source": [
    "E.matrix(3,3,0)"
   ]
  },
  {
   "cell_type": "markdown",
   "metadata": {
    "slideshow": {
     "slide_type": "slide"
    }
   },
   "source": [
    "## Serre spectral sequence of the Whitehead tower\n",
    "\n"
   ]
  },
  {
   "cell_type": "code",
   "execution_count": 29,
   "metadata": {
    "scrolled": true,
    "slideshow": {
     "slide_type": "fragment"
    }
   },
   "outputs": [
    {
     "data": {
      "text/plain": [
       "Additive abelian group isomorphic to Z"
      ]
     },
     "execution_count": 29,
     "metadata": {},
     "output_type": "execute_result"
    }
   ],
   "source": [
    "from sage.interfaces.kenzo import *                       \n",
    "S3 = Sphere(3)                      \n",
    "E = S3.sw_spectral_sequence()\n",
    "E.group(2,3,0)                 "
   ]
  },
  {
   "cell_type": "code",
   "execution_count": 30,
   "metadata": {
    "scrolled": true,
    "slideshow": {
     "slide_type": "fragment"
    }
   },
   "outputs": [
    {
     "data": {
      "text/html": [
       "<div class=\"notruncate\">\n",
       "<table  class=\"table_form\">\n",
       "<tbody>\n",
       "<tr class =\"row-a\">\n",
       "<td>Z</td>\n",
       "<td>0</td>\n",
       "<td>0</td>\n",
       "<td>Z</td>\n",
       "</tr>\n",
       "<tr class =\"row-b\">\n",
       "<td>0</td>\n",
       "<td>0</td>\n",
       "<td>0</td>\n",
       "<td>0</td>\n",
       "</tr>\n",
       "<tr class =\"row-a\">\n",
       "<td>Z</td>\n",
       "<td>0</td>\n",
       "<td>0</td>\n",
       "<td>Z</td>\n",
       "</tr>\n",
       "<tr class =\"row-b\">\n",
       "<td>0</td>\n",
       "<td>0</td>\n",
       "<td>0</td>\n",
       "<td>0</td>\n",
       "</tr>\n",
       "<tr class =\"row-a\">\n",
       "<td>Z</td>\n",
       "<td>0</td>\n",
       "<td>0</td>\n",
       "<td>Z</td>\n",
       "</tr>\n",
       "</tbody>\n",
       "</table>\n",
       "</div>"
      ],
      "text/plain": [
       "  Z   0   0   Z\n",
       "  0   0   0   0\n",
       "  Z   0   0   Z\n",
       "  0   0   0   0\n",
       "  Z   0   0   Z"
      ]
     },
     "execution_count": 30,
     "metadata": {},
     "output_type": "execute_result"
    }
   ],
   "source": [
    "E.table(2, 0, 3, 0, 4)                   "
   ]
  },
  {
   "cell_type": "code",
   "execution_count": 31,
   "metadata": {
    "slideshow": {
     "slide_type": "fragment"
    }
   },
   "outputs": [
    {
     "data": {
      "text/plain": [
       "[1]"
      ]
     },
     "execution_count": 31,
     "metadata": {},
     "output_type": "execute_result"
    }
   ],
   "source": [
    "E.matrix(3,3,0)"
   ]
  },
  {
   "cell_type": "code",
   "execution_count": 32,
   "metadata": {
    "slideshow": {
     "slide_type": "fragment"
    }
   },
   "outputs": [
    {
     "data": {
      "text/plain": [
       "[2]"
      ]
     },
     "execution_count": 32,
     "metadata": {},
     "output_type": "execute_result"
    }
   ],
   "source": [
    "E.matrix(3,3,2)"
   ]
  },
  {
   "cell_type": "markdown",
   "metadata": {
    "slideshow": {
     "slide_type": "slide"
    }
   },
   "source": [
    "## Eilenberg-Moore spectral sequence\n",
    "\n"
   ]
  },
  {
   "cell_type": "code",
   "execution_count": 33,
   "metadata": {
    "scrolled": true,
    "slideshow": {
     "slide_type": "fragment"
    }
   },
   "outputs": [
    {
     "data": {
      "text/html": [
       "<div class=\"notruncate\">\n",
       "<table  class=\"table_form\">\n",
       "<tbody>\n",
       "<tr class =\"row-a\">\n",
       "<td>0</td>\n",
       "<td>Z</td>\n",
       "<td>Z + Z + Z</td>\n",
       "<td>Z + Z + Z</td>\n",
       "</tr>\n",
       "<tr class =\"row-b\">\n",
       "<td>0</td>\n",
       "<td>0</td>\n",
       "<td>0</td>\n",
       "<td>0</td>\n",
       "</tr>\n",
       "<tr class =\"row-a\">\n",
       "<td>0</td>\n",
       "<td>0</td>\n",
       "<td>Z</td>\n",
       "<td>Z + Z</td>\n",
       "</tr>\n",
       "<tr class =\"row-b\">\n",
       "<td>0</td>\n",
       "<td>0</td>\n",
       "<td>0</td>\n",
       "<td>0</td>\n",
       "</tr>\n",
       "</tbody>\n",
       "</table>\n",
       "</div>"
      ],
      "text/plain": [
       "  0   Z   Z + Z + Z   Z + Z + Z\n",
       "  0   0   0           0\n",
       "  0   0   Z           Z + Z\n",
       "  0   0   0           0"
      ]
     },
     "execution_count": 33,
     "metadata": {},
     "output_type": "execute_result"
    }
   ],
   "source": [
    "from sage.interfaces.kenzo import Sphere   \n",
    "S3 = Sphere(3)\n",
    "L = S3.loop_space() \n",
    "EMS = L.em_spectral_sequence()\n",
    "EMS.table(1, -5, -2, 5, 8)              "
   ]
  },
  {
   "cell_type": "code",
   "execution_count": 19,
   "metadata": {
    "slideshow": {
     "slide_type": "fragment"
    }
   },
   "outputs": [
    {
     "data": {
      "text/plain": [
       "[ 3  3  0]\n",
       "[-2  0  2]\n",
       "[ 0 -3 -3]"
      ]
     },
     "execution_count": 19,
     "metadata": {},
     "output_type": "execute_result"
    }
   ],
   "source": [
    "EMS.matrix(1, -2 ,8)"
   ]
  },
  {
   "cell_type": "markdown",
   "metadata": {
    "slideshow": {
     "slide_type": "slide"
    }
   },
   "source": [
    "## Conclusions\n",
    "\n",
    "We have presented an interface between SageMath and Kenzo together with an optional Kenzo package\n",
    "\n",
    "The first version includes some basic functionalities of algebraic topology computations and extends SageMath \n",
    "capabilites to deal with infinite objects\n",
    "\n",
    "We developed wrappers of functions, so that the computations can be carried out in Kenzo and the result returned as a SageMath object"
   ]
  },
  {
   "cell_type": "markdown",
   "metadata": {
    "slideshow": {
     "slide_type": "slide"
    }
   },
   "source": [
    "## On-going work\n",
    "\n",
    "* Integration of the extended modules of Kenzo in SageMath\n",
    "* Other spectral sequences, discrete vector fields and finite topological spaces\n",
    "* This requires to adapt the Kenzo Common Lisp code to the Embeddable Common Lisp library\n",
    "* Develop the corresponding wrappers and necessary functions\n",
    "\n",
    "### Trac in the SageMath Development Organization Page\n",
    "\n",
    "https://trac.sagemath.org/ticket/27880"
   ]
  },
  {
   "cell_type": "markdown",
   "metadata": {
    "slideshow": {
     "slide_type": "notes"
    }
   },
   "source": [
    "Con Firefox, si pulsamos en el link del trac lo podemos ver, y luego para volver a la presentación desde el teclado\n",
    "solo hay que hacer CTRL + MAYUS + TAB (volver a la pestaña anterior). De esta forma parece que tampoco has salido de la\n",
    "presentación porque todo seguirá a pantalla completa."
   ]
  },
  {
   "cell_type": "markdown",
   "metadata": {
    "slideshow": {
     "slide_type": "slide"
    }
   },
   "source": [
    "<center><h1>Thanks</h1></center>"
   ]
  },
  {
   "cell_type": "markdown",
   "metadata": {
    "slideshow": {
     "slide_type": "slide"
    }
   },
   "source": [
    "# About this presentation\n",
    "\n",
    "Combination of:\n",
    "\n",
    "- SageMath\n",
    "- Kenzo\n",
    "- Jupyter\n",
    "- RISE\n",
    "- CSS\n",
    "- Binder"
   ]
  }
 ],
 "metadata": {
  "celltoolbar": "Slideshow",
  "kernelspec": {
   "display_name": "SageMath 8.9.beta1",
   "language": "sage",
   "name": "sagemath"
  },
  "language_info": {
   "codemirror_mode": {
    "name": "ipython",
    "version": 2
   },
   "file_extension": ".py",
   "mimetype": "text/x-python",
   "name": "python",
   "nbconvert_exporter": "python",
   "pygments_lexer": "ipython2",
   "version": "2.7.15"
  }
 },
 "nbformat": 4,
 "nbformat_minor": 2
}
